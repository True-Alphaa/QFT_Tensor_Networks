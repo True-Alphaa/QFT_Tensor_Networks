{
 "cells": [
  {
   "cell_type": "code",
   "execution_count": 107,
   "id": "5113a473-05b3-4a3b-9456-66dabef0afc5",
   "metadata": {},
   "outputs": [
    {
     "data": {
      "text/plain": [
       "24-element Vector{Index{Int64}}:\n",
       " (dim=2|id=720|\"Qubit,Site,n=1\")\n",
       " (dim=2|id=282|\"Qubit,Site,n=2\")\n",
       " (dim=2|id=865|\"Qubit,Site,n=3\")\n",
       " (dim=2|id=206|\"Qubit,Site,n=4\")\n",
       " (dim=2|id=772|\"Qubit,Site,n=5\")\n",
       " (dim=2|id=971|\"Qubit,Site,n=6\")\n",
       " (dim=2|id=463|\"Qubit,Site,n=7\")\n",
       " (dim=2|id=326|\"Qubit,Site,n=8\")\n",
       " (dim=2|id=267|\"Qubit,Site,n=9\")\n",
       " (dim=2|id=136|\"Qubit,Site,n=10\")\n",
       " (dim=2|id=920|\"Qubit,Site,n=11\")\n",
       " (dim=2|id=185|\"Qubit,Site,n=12\")\n",
       " (dim=2|id=329|\"Qubit,Site,n=13\")\n",
       " (dim=2|id=712|\"Qubit,Site,n=14\")\n",
       " (dim=2|id=310|\"Qubit,Site,n=15\")\n",
       " (dim=2|id=707|\"Qubit,Site,n=16\")\n",
       " (dim=2|id=936|\"Qubit,Site,n=17\")\n",
       " (dim=2|id=775|\"Qubit,Site,n=18\")\n",
       " (dim=2|id=313|\"Qubit,Site,n=19\")\n",
       " (dim=2|id=875|\"Qubit,Site,n=20\")\n",
       " (dim=2|id=330|\"Qubit,Site,n=21\")\n",
       " (dim=2|id=354|\"Qubit,Site,n=22\")\n",
       " (dim=2|id=782|\"Qubit,Site,n=23\")\n",
       " (dim=2|id=725|\"Qubit,Site,n=24\")"
      ]
     },
     "execution_count": 107,
     "metadata": {},
     "output_type": "execute_result"
    }
   ],
   "source": [
    "using ITensors, ITensorMPS\n",
    "using LinearAlgebra\n",
    "using Plots\n",
    "using HDF5\n",
    "\n",
    "N = 24\n",
    "\n",
    "f4 = h5open(\"Basis states Final/MPO_$N.h5\",\"r\")\n",
    "W1 = read(f4,\"W\",MPO)\n",
    "close(f4)\n",
    "\n",
    "# Assuming `siteinds(W1)` gives the indices of the MPO\n",
    "all_sites = siteinds(W1)\n",
    "\n",
    "# Consider only physical sites\n",
    "s = [pair[2] for pair in all_sites]\n",
    "\n",
    "# println(s)"
   ]
  },
  {
   "cell_type": "code",
   "execution_count": 108,
   "id": "8fc16a10-df5e-4367-b41a-e445d6c79350",
   "metadata": {},
   "outputs": [
    {
     "name": "stdout",
     "output_type": "stream",
     "text": [
      "0.0064849853515625\n"
     ]
    }
   ],
   "source": [
    "# Taking the input \n",
    "\n",
    "x = range(0, stop=2π, length=2^(N))\n",
    "input_array = cos.(x)\n",
    "\n",
    "\n",
    "array = input_array / norm(input_array) # Input\n",
    "ITensors.disable_warn_order()\n",
    "\n",
    "cutoff1 = 1E-24\n",
    "maxdim1 = 10\n",
    "\n",
    "\n",
    "T = ITensor(array,s)\n",
    "\n",
    "ψ = MPS(T,s;cutoff=cutoff1,maxdim=maxdim1)\n",
    "\n",
    "orthogonalize!(ψ, 1) # Orthogonalize Psi \n",
    "\n",
    "start = time()\n",
    "\n",
    "result = contract(W1, ψ)\n",
    "end_time = time()\n",
    "time1 = end_time - start\n",
    "\n",
    "println(time1)"
   ]
  },
  {
   "cell_type": "code",
   "execution_count": 109,
   "id": "78655c67-0ebe-49e1-afb4-7c352ad8a9f4",
   "metadata": {},
   "outputs": [
    {
     "name": "stdout",
     "output_type": "stream",
     "text": [
      "0.3464231491088867\n"
     ]
    }
   ],
   "source": [
    "using FFTW\n",
    "\n",
    "start2 = time()\n",
    "x2 = fft(array)\n",
    "end2 = time()\n",
    "\n",
    "time2 = end2 - start2\n",
    "println(time2)"
   ]
  },
  {
   "cell_type": "markdown",
   "id": "eb4123e5-fbb7-426a-88bf-306a5ca37014",
   "metadata": {},
   "source": [
    "# Check Output "
   ]
  },
  {
   "cell_type": "code",
   "execution_count": 110,
   "id": "6ebe6845-f887-4224-9243-0bdfa85fd816",
   "metadata": {},
   "outputs": [
    {
     "name": "stdout",
     "output_type": "stream",
     "text": [
      "0.00011508898252770066 - 1.4131360928077707e-11im\n",
      "2896.309375740525 + 0.0005423417057245976im\n",
      "-1.7149549837180201e-12 - 1.7300819529033038e-18im\n",
      "-4.31582597154179e-5 - 5.691968938550152e-11im\n",
      "-5.716498401355954e-13 + 6.929061661496108e-19im\n",
      "-1.4386040742234846e-5 + 1.2977321627960134e-11im\n",
      "-2.8582174688274587e-13 + 6.215067512411919e-18im\n",
      "-7.192940515338487e-6 + 1.5417721857515038e-10im\n"
     ]
    }
   ],
   "source": [
    "\n",
    "inner_products = []\n",
    "MPS2 = []\n",
    "\n",
    "for i in 1:2^3\n",
    "    f2 = h5open(\"Basis states Final/MPS_$N/MPS_create_$i.h5\",\"r\")\n",
    "    mps1 = read(f2,\"M\",MPS)\n",
    "    push!(MPS2,mps1)\n",
    "    close(f2)\n",
    "end\n",
    "\n",
    "for i in 1:(2^3)\n",
    "    push!(inner_products, inner(MPS2[i], result))\n",
    "    print(inner(MPS2[i], result)*2^(N/2))\n",
    "    println()\n",
    "end\n"
   ]
  },
  {
   "cell_type": "code",
   "execution_count": 111,
   "id": "34b2a95b-97ea-4586-9c0c-64f8398959f9",
   "metadata": {},
   "outputs": [
    {
     "name": "stdout",
     "output_type": "stream",
     "text": [
      "0.00034526697248534784 + 0.0im\n",
      "2896.3093757400056 + 0.0005423441083053668im\n",
      "-0.00011508900912163473 - 4.3101592978565534e-11im\n",
      "-4.3158377390191806e-5 - 2.424130757637164e-11im\n",
      "-2.3017801092445136e-5 - 1.724064385059472e-11im\n",
      "-1.4386125709308547e-5 - 1.3462128389616158e-11im\n",
      "-9.864771851831875e-6 - 1.1083323426692858e-11im\n",
      "-7.193062755537335e-6 - 9.437020888510453e-12im\n"
     ]
    }
   ],
   "source": [
    "for i in 1:2^3\n",
    "    println(x2[i])\n",
    "end"
   ]
  },
  {
   "cell_type": "markdown",
   "id": "20e186bf-f07c-4285-8d75-d08464ce6ce0",
   "metadata": {},
   "source": [
    "# Code to generate basis states to measure"
   ]
  },
  {
   "cell_type": "code",
   "execution_count": 112,
   "id": "f866c83e-efc7-42b2-b7d5-1385caa55e7f",
   "metadata": {},
   "outputs": [],
   "source": [
    "# function generate_basis_states(n)\n",
    "#     basis_states = []\n",
    "#     for i in 0:(2^n - 1)\n",
    "#         binary_str = bitstring(i)[end-n+1:end]  # Get last n bits of bitstring\n",
    "#         push!(basis_states, collect(binary_str))  # Collect splits string into array of characters\n",
    "#     end\n",
    "#     return basis_states\n",
    "# end\n",
    "\n",
    "# MPS_states = []\n",
    "# basis_states = generate_basis_states(N)\n",
    "\n",
    "# for i in 1:(2^N)\n",
    "#     push!(MPS_states, MPS(s,string.(basis_states[i])))\n",
    "# end\n",
    "\n",
    "# using HDF5\n",
    "# f = 0 \n",
    "\n",
    "# for (i, mps) in enumerate(MPS_states)\n",
    "#     f = h5open(\"Basis states Final/MPS_$N/MPS_create_$i.h5\",\"w\")\n",
    "#     write(f,\"M\", mps)\n",
    "# end\n",
    "# close(f)"
   ]
  }
 ],
 "metadata": {
  "kernelspec": {
   "display_name": "Julia 1.10.4",
   "language": "julia",
   "name": "julia-1.10"
  },
  "language_info": {
   "file_extension": ".jl",
   "mimetype": "application/julia",
   "name": "julia",
   "version": "1.10.4"
  }
 },
 "nbformat": 4,
 "nbformat_minor": 5
}
