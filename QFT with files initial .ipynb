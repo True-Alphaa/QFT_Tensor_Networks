{
 "cells": [
  {
   "cell_type": "code",
   "execution_count": 517,
   "id": "0c2e2d55-e844-4237-ad67-3abda758756a",
   "metadata": {},
   "outputs": [],
   "source": [
    "\n",
    "# # Example data\n",
    "# x_PLOT = 1:15\n",
    "# y1_PLOT = []  # Random data for the first graph\n",
    "# y2_PLOT = []  # Random data for the second graph\n"
   ]
  },
  {
   "cell_type": "code",
   "execution_count": 531,
   "id": "d8227ee5-4133-401e-84b2-adeb451ebb0e",
   "metadata": {},
   "outputs": [
    {
     "name": "stdout",
     "output_type": "stream",
     "text": [
      "4\n"
     ]
    },
    {
     "data": {
      "text/plain": [
       "5-element Vector{Vector{Index{Int64}}}:\n",
       " [(dim=2|id=502|\"Qubit,Site,n=1\")', (dim=2|id=502|\"Qubit,Site,n=1\")]\n",
       " [(dim=2|id=689|\"Qubit,Site,n=2\")', (dim=2|id=689|\"Qubit,Site,n=2\")]\n",
       " [(dim=2|id=453|\"Qubit,Site,n=3\")', (dim=2|id=453|\"Qubit,Site,n=3\")]\n",
       " [(dim=2|id=475|\"Qubit,Site,n=4\")', (dim=2|id=475|\"Qubit,Site,n=4\")]\n",
       " [(dim=2|id=324|\"Qubit,Site,n=5\")', (dim=2|id=324|\"Qubit,Site,n=5\")]"
      ]
     },
     "execution_count": 531,
     "metadata": {},
     "output_type": "execute_result"
    }
   ],
   "source": [
    "using ITensors, ITensorMPS\n",
    "using LinearAlgebra\n",
    "using Plots\n",
    "using HDF5\n",
    "\n",
    "N = 5\n",
    "\n",
    "f4 = h5open(\"Basis_states/MPO_$N.h5\",\"r\")\n",
    "W1 = read(f4,\"W\",MPO)\n",
    "close(f4)\n",
    "println(maxlinkdim(W1))\n",
    "\n",
    "s = siteinds(W1)\n"
   ]
  },
  {
   "cell_type": "code",
   "execution_count": 532,
   "id": "7fb09a3d-0599-46a9-b1be-e49c6a07c9d3",
   "metadata": {},
   "outputs": [
    {
     "name": "stdout",
     "output_type": "stream",
     "text": [
      "3\n"
     ]
    }
   ],
   "source": [
    "# Taking the input \n",
    "\n",
    "x = range(0, stop=2π, length=2^N)\n",
    "input_array = cos.(x)\n",
    "    \n",
    "#ψ = MPS(input_array,s;cutoff=cutoff,maxdim=maxdim)\n",
    "using HDF5\n",
    "MPS1 = []\n",
    "for i in 1:2^N\n",
    "    f1 = h5open(\"Basis_states/MPS_$N/MPS_create_$i.h5\",\"r\")\n",
    "    mps1 = read(f1,\"M\",MPS)\n",
    "    close(f1)\n",
    "    push!(MPS1,mps1)\n",
    "end\n",
    "\n",
    "array = input_array / norm(input_array) # Input\n",
    "\n",
    "ψ = array[1] *MPS1[1]\n",
    "for i in 2:2^N\n",
    "    \n",
    "    ψ += array[i] * MPS1[i]\n",
    "end\n",
    "\n",
    "println(maxlinkdim(ψ))"
   ]
  },
  {
   "cell_type": "code",
   "execution_count": 533,
   "id": "cd7e759f-6c6c-4ea0-b6e2-99b04c500b92",
   "metadata": {},
   "outputs": [
    {
     "data": {
      "text/plain": [
       "1.731577526434942e9"
      ]
     },
     "execution_count": 533,
     "metadata": {},
     "output_type": "execute_result"
    }
   ],
   "source": [
    "orthogonalize!(ψ, 1) # Orthogonalize Psi at the first index\n",
    "\n",
    "\n",
    "\n",
    "start = time()\n",
    "result = contract(W1, ψ)\n",
    "end_time = time()\n"
   ]
  },
  {
   "cell_type": "code",
   "execution_count": 534,
   "id": "98161e7f-1cd5-4348-b242-ca208ff6ca7e",
   "metadata": {},
   "outputs": [
    {
     "name": "stdout",
     "output_type": "stream",
     "text": [
      "1.0000000000000209 + 1.8272640836402662e-16im\n",
      "16.149735723719303 - 1.59061013527649im\n",
      "-0.35383322373041654 + 0.07038180418977555im\n",
      "-0.12660477936251852 + 0.03840513994846441im\n",
      "-0.06413657357668608 + 0.026566238619565356im\n",
      "-0.03755382107950081 + 0.02007293556453266im\n",
      "-0.02371096309372764 + 0.015843159023778374im\n",
      "-0.015593022394804533 + 0.012796862764310355im\n",
      "-0.010448919366975111 + 0.010448919367167771im\n",
      "-0.007013563834227061 + 0.008546052258932272im\n",
      "-0.004638225791299282 + 0.006941595447363017im\n",
      "-0.0029631627927856714 + 0.005543687668022654im\n",
      "-0.0017773659607031261 + 0.0042909410076889766im\n",
      "-0.000952464877768829 + 0.0031398559115437064im\n",
      "-0.0004093156156598836 + 0.002057768559051133im\n",
      "-0.0001003222427091 + 0.0010185888240781316im\n",
      "3.927164442693566e-14 - 1.6394410339679017e-13im\n",
      "-0.00010032224270592084 - 0.0010185888240742647im\n",
      "-0.0004093156157495892 - 0.002057768559528139im\n",
      "-0.0009524648777755952 - 0.0031398559116154827im\n",
      "-0.0017773659605493481 - 0.004290941006841886im\n",
      "-0.00296316279275925 - 0.005543687668019364im\n",
      "-0.004638225791066383 - 0.006941595447898002im\n",
      "-0.007013563834200156 - 0.008546052258956766im\n",
      "-0.010448919366958454 - 0.01044891936702231im\n",
      "-0.015593022394776368 - 0.012796862764308692im\n",
      "-0.023710963093777414 - 0.015843159023633386im\n",
      "-0.03755382107948132 - 0.020072935564518026im\n",
      "-0.06413657357675226 - 0.026566238619618092im\n",
      "-0.12660477936251158 - 0.038405139948451905im\n",
      "-0.35383322373041437 - 0.07038180418977291im\n",
      "16.149735723719612 + 1.59061013527647im\n"
     ]
    },
    {
     "data": {
      "text/plain": [
       "0.004105091094970703"
      ]
     },
     "execution_count": 534,
     "metadata": {},
     "output_type": "execute_result"
    }
   ],
   "source": [
    "inner_products = []\n",
    "\n",
    "MPS2 = []\n",
    "for i in 1:2^N\n",
    "    f2 = h5open(\"Basis_states/MPS_$N/MPS_measure_$i.h5\",\"r\")\n",
    "    mps1 = read(f2,\"M1\",MPS)\n",
    "    push!(MPS2,mps1)\n",
    "    close(f2)\n",
    "end\n",
    "\n",
    "for i in 1:(2^N)\n",
    "    push!(inner_products, inner(MPS2[i], result))\n",
    "    print(inner(MPS2[i], result)*norm(input_array)*2^(N/2))\n",
    "    println()\n",
    "end\n",
    "\n",
    "time1 = end_time - start"
   ]
  },
  {
   "cell_type": "code",
   "execution_count": 535,
   "id": "6af0d9fe-aab5-4589-a878-53e3c01aede1",
   "metadata": {},
   "outputs": [
    {
     "name": "stdout",
     "output_type": "stream",
     "text": [
      "0.9999999999999998 + 0.0im\n",
      "\n",
      "16.149735723719495 + 1.5906101352764617im\n",
      "\n",
      "-0.3538332237303783 - 0.0703818041897859im\n",
      "\n",
      "-0.12660477936253065 - 0.03840513994846283im\n",
      "\n",
      "-0.06413657357673683 - 0.02656623861962376im\n",
      "\n",
      "-0.037553821079491075 - 0.020072935564491586im\n",
      "\n",
      "-0.023710963093742023 - 0.01584315902373093im\n",
      "\n",
      "-0.015593022394802036 - 0.012796862764329842im\n",
      "\n",
      "-0.01044891936704373 - 0.010448919367044396im\n",
      "\n",
      "-0.007013563834202541 - 0.008546052258911974im\n",
      "\n",
      "-0.004638225791212473 - 0.006941595447672394im\n",
      "\n",
      "-0.0029631627927938983 - 0.0055436876680278815im\n",
      "\n",
      "-0.001777365960343967 - 0.004290941006761917im\n",
      "\n",
      "-0.0009524648777894662 - 0.003139855911602138im\n",
      "\n",
      "-0.0004093156157039257 - 0.002057768559572855im\n",
      "\n",
      "-0.00010032224272293888 - 0.001018588824037936im\n",
      "\n",
      "2.220446049250313e-16 + 0.0im\n",
      "\n",
      "-0.00010032224272293888 + 0.001018588824037936im\n",
      "\n",
      "-0.0004093156157039257 + 0.002057768559572855im\n",
      "\n",
      "-0.0009524648777894662 + 0.003139855911602138im\n",
      "\n",
      "-0.001777365960343967 + 0.004290941006761917im\n",
      "\n",
      "-0.0029631627927938983 + 0.0055436876680278815im\n",
      "\n",
      "-0.004638225791212473 + 0.006941595447672394im\n",
      "\n",
      "-0.007013563834202541 + 0.008546052258911974im\n",
      "\n",
      "-0.01044891936704373 + 0.010448919367044396im\n",
      "\n",
      "-0.015593022394802036 + 0.012796862764329842im\n",
      "\n",
      "-0.023710963093742023 + 0.01584315902373093im\n",
      "\n",
      "-0.037553821079491075 + 0.020072935564491586im\n",
      "\n",
      "-0.06413657357673683 + 0.02656623861962376im\n",
      "\n",
      "-0.12660477936253065 + 0.03840513994846283im\n",
      "\n",
      "-0.3538332237303783 + 0.0703818041897859im\n",
      "\n",
      "16.149735723719495 - 1.5906101352764617im\n",
      "\n"
     ]
    },
    {
     "data": {
      "text/plain": [
       "0.00057220458984375"
      ]
     },
     "execution_count": 535,
     "metadata": {},
     "output_type": "execute_result"
    }
   ],
   "source": [
    "using FFTW\n",
    "\n",
    "start2 = time()\n",
    "x = fft(input_array)\n",
    "end2 = time()\n",
    "\n",
    "for a in x\n",
    "    println(a)\n",
    "    println()\n",
    "end\n",
    "\n",
    "time2 = end2 - start2\n"
   ]
  },
  {
   "cell_type": "code",
   "execution_count": 536,
   "id": "cd6e9439-992d-4bca-a375-48b3d894f3b6",
   "metadata": {},
   "outputs": [
    {
     "name": "stdout",
     "output_type": "stream",
     "text": [
      "Time taken QFT: 0.004105091094970703 seconds\n",
      "Time taken FFT: 0.00057220458984375 seconds\n"
     ]
    },
    {
     "data": {
      "text/plain": [
       "17-element Vector{Any}:\n",
       " 0.002853870391845703\n",
       " 0.0003540515899658203\n",
       " 0.004642963409423828\n",
       " 0.00030612945556640625\n",
       " 0.0005178451538085938\n",
       " 0.0017349720001220703\n",
       " 0.0002830028533935547\n",
       " 0.0002429485321044922\n",
       " 0.000286102294921875\n",
       " 0.00024700164794921875\n",
       " 0.0002799034118652344\n",
       " 0.0006561279296875\n",
       " 0.0011670589447021484\n",
       " 0.0004420280456542969\n",
       " 0.0006799697875976562\n",
       " 0.0003230571746826172\n",
       " 0.00057220458984375"
      ]
     },
     "execution_count": 536,
     "metadata": {},
     "output_type": "execute_result"
    }
   ],
   "source": [
    "println(\"Time taken QFT: \", time1, \" seconds\")\n",
    "println(\"Time taken FFT: \", time2, \" seconds\")\n",
    "push!(y1_PLOT, time1)\n",
    "push!(y2_PLOT, time2)\n"
   ]
  },
  {
   "cell_type": "code",
   "execution_count": 524,
   "id": "a8df0bd6-6791-450b-99c6-d0926305f8e8",
   "metadata": {},
   "outputs": [],
   "source": [
    "# using Plots\n",
    "\n",
    "# # Create the plot with pythonplot backend\n",
    "# p = plot(\n",
    "#     x_PLOT, y1_PLOT,\n",
    "#     label = \"QFT\",\n",
    "#     linewidth = 2,\n",
    "#     xticks = 1:1:length(x_PLOT)\n",
    "# )\n",
    "# plot!(\n",
    "#     p, x_PLOT, y2_PLOT,\n",
    "#     label = \"FFT\",\n",
    "#     linewidth = 2\n",
    "# )\n",
    "\n",
    "# # Add axis labels and title\n",
    "# xlabel!(\"X Axis\")\n",
    "# ylabel!(\"Y Axis\")\n",
    "# title!(\"Comparison of Two Lines\")\n",
    "\n",
    "# # Display the plot\n",
    "# display(p)"
   ]
  },
  {
   "cell_type": "code",
   "execution_count": null,
   "id": "b788ba2b-d085-435a-9324-51a157878d5c",
   "metadata": {},
   "outputs": [],
   "source": []
  }
 ],
 "metadata": {
  "kernelspec": {
   "display_name": "Julia 1.10.4",
   "language": "julia",
   "name": "julia-1.10"
  },
  "language_info": {
   "file_extension": ".jl",
   "mimetype": "application/julia",
   "name": "julia",
   "version": "1.10.4"
  }
 },
 "nbformat": 4,
 "nbformat_minor": 5
}
